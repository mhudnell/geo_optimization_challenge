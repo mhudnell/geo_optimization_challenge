{
 "cells": [
  {
   "cell_type": "code",
   "execution_count": 1,
   "metadata": {
    "collapsed": true
   },
   "outputs": [],
   "source": [
    "import numpy as np\n",
    "import matplotlib.pyplot as plt\n",
    "import time\n",
    "from heapq import heappush, heappop\n",
    "from IPython.display import display, clear_output"
   ]
  },
  {
   "cell_type": "code",
   "execution_count": 2,
   "metadata": {},
   "outputs": [
    {
     "name": "stdout",
     "output_type": "stream",
     "text": [
      "[[  0.00000000e+00   1.77600000e+03   3.73400000e+03]\n",
      " [  1.00000000e+00   3.87200000e+03   3.27200000e+03]\n",
      " [  2.00000000e+00   3.97600000e+03   8.54400000e+03]\n",
      " [  3.00000000e+00   7.97000000e+03   4.14800000e+03]\n",
      " [  4.00000000e+00   8.00800000e+03   2.29200000e+03]\n",
      " [  5.00000000e+00   8.76600000e+03   6.62600000e+03]\n",
      " [  6.00000000e+00   9.07200000e+03   2.60600000e+03]\n",
      " [  7.00000000e+00   1.01900000e+04   2.55800000e+03]\n",
      " [  8.00000000e+00   1.03120000e+04   2.74600000e+03]\n",
      " [  9.00000000e+00   1.06880000e+04   3.59800000e+03]\n",
      " [  1.00000000e+01   1.07640000e+04   6.52400000e+03]\n",
      " [  1.10000000e+01   1.10940000e+04   2.76000000e+03]\n",
      " [  1.20000000e+01   1.12140000e+04   3.33000000e+03]\n",
      " [  1.30000000e+01   1.13460000e+04   5.45400000e+03]\n",
      " [  1.40000000e+01   1.14620000e+04   4.13600000e+03]\n",
      " [  1.50000000e+01   1.21640000e+04   6.09200000e+03]\n",
      " [  1.60000000e+01   1.25200000e+04   3.22000000e+03]\n",
      " [  1.70000000e+01   1.26720000e+04   2.64600000e+03]\n",
      " [  1.80000000e+01   1.43380000e+04   6.96800000e+03]\n",
      " [  1.90000000e+01   1.50460000e+04   5.86600000e+03]]\n"
     ]
    },
    {
     "data": {
      "image/png": "[encoded data removed]",
      "text/plain": [
       "<matplotlib.figure.Figure at 0x2a96c688550>"
      ]
     },
     "metadata": {},
     "output_type": "display_data"
    }
   ],
   "source": [
    "data_pts = np.loadtxt('challenge_instances/data/images/us-night-0000020.instance')\n",
    "print(data_pts)\n",
    "\n",
    "plt.scatter(data_pts[:, 1], data_pts[:, 2])\n",
    "plt.show()"
   ]
  },
  {
   "cell_type": "code",
   "execution_count": 3,
   "metadata": {
    "collapsed": true
   },
   "outputs": [],
   "source": [
    "## u,v: both [1x3] with columns [id, x, y]\n",
    "def perpdot(u, v):\n",
    "    return u[1]*v[2] - u[2]*v[1]\n",
    "\n",
    "## function to compute area as integer (loop computes twice the area)\n",
    "## pts: [nx3] columns are [id, x, y], \n",
    "##      auto completes path (loops back to beginning)\n",
    "def area(pts):\n",
    "    N = len(pts)\n",
    "    twicearea = perpdot(pts[0],pts[N-1])\n",
    "    for i in range(1, N):\n",
    "        twicearea += perpdot(pts[i],pts[i-1])\n",
    "    return abs(twicearea / 2)\n",
    "\n",
    "def area_tri(pt0, pt1, pt2):\n",
    "    return area(np.array([pt0, pt1, pt2]))"
   ]
  },
  {
   "cell_type": "code",
   "execution_count": 4,
   "metadata": {},
   "outputs": [
    {
     "name": "stdout",
     "output_type": "stream",
     "text": [
      "5549080.0\n",
      "5549080.0\n",
      "5549080.0\n"
     ]
    }
   ],
   "source": [
    "pts_test = np.array([[0, 2],\n",
    "                     [2, 0],\n",
    "                     [0, 0]])\n",
    "print(area(data_pts[:3]))\n",
    "\n",
    "# sanity check\n",
    "a = data_pts[0]\n",
    "b = data_pts[1]\n",
    "c = data_pts[2]\n",
    "# a = pts_test[0]\n",
    "# b = pts_test[1]\n",
    "# c = pts_test[2]\n",
    "print( abs((a[1]*(b[2]-c[2]) + b[1]*(c[2]-a[2]) + c[1]*(a[2]-b[2])) / 2) )\n",
    "print( area_tri(a, b, c) )"
   ]
  },
  {
   "cell_type": "code",
   "execution_count": 84,
   "metadata": {
    "collapsed": true
   },
   "outputs": [],
   "source": [
    "def ccw(A,B,C):\n",
    "    return (C[2]-A[2]) * (B[1]-A[1]) > (B[2]-A[2]) * (C[1]-A[1])\n",
    "\n",
    "# Return true if line segments AB and CD intersect\n",
    "def intersect(A,B,C,D):\n",
    "    return ccw(A,C,D) != ccw(B,C,D) and ccw(A,B,C) != ccw(A,B,D)\n",
    "\n",
    "#  compute whether triangle [C1, C2, D] intersects with any\n",
    "#      segment in p\n",
    "def tri_path_intersect(p, C1, C2, D):\n",
    "    for i in range(len(p)):\n",
    "        A = p[i]\n",
    "        B = p[(i+1) % len(p)]\n",
    "        if A[0] != C1[0] and B[0] != C1[0]:\n",
    "            if intersect(A, B, C1, D):\n",
    "                return True\n",
    "        if A[0] != C2[0] and B[0] != C2[0]:\n",
    "            if intersect(A, B, C2, D):\n",
    "                return True\n",
    "    return False\n",
    "\n",
    "# pts: original loaded pts [nx3]\n",
    "# path: ordered list of vertex indices\n",
    "def plot_poly(pts, path):\n",
    "    plt_path = np.asarray(path + [path[0]])\n",
    "    plt.fill(pts[path][:, 1], pts[path][:, 2], '#F7820C8F')\n",
    "    plt.scatter(pts[:, 1], pts[:, 2])\n",
    "    plt.show()\n",
    "    \n",
    "def rotate_min_first(l):\n",
    "    min_x = np.inf\n",
    "    min_i = None\n",
    "    for i, x in enumerate(l):\n",
    "        if x < min_x:\n",
    "            min_x = x\n",
    "            min_i = i\n",
    "    \n",
    "#     print(l, min_i, l[min_i:]+l[:min_i])\n",
    "    return l[min_i:]+l[:min_i]\n",
    "\n",
    "def reverse_non_first(l):\n",
    "    return [l[0]] + l[:0:-1]"
   ]
  },
  {
   "cell_type": "code",
   "execution_count": 81,
   "metadata": {
    "collapsed": true
   },
   "outputs": [],
   "source": [
    "## tree structure\n",
    "\n",
    "class Node:\n",
    "    def __init__(self, level, area, path):\n",
    "        self.level = level\n",
    "        self.area = area\n",
    "        self.path = path\n",
    "    \n",
    "    def __lt__(self, other):\n",
    "        if self.level != other.level:\n",
    "            return self.level < other.level\n",
    "        else:\n",
    "            return self.area <= other.area\n",
    "\n",
    "    def __str__(self):\n",
    "        return \"({}, '{:,}', {})\".format(self.level, self.area, self.path)\n",
    "    "
   ]
  },
  {
   "cell_type": "code",
   "execution_count": 116,
   "metadata": {},
   "outputs": [],
   "source": [
    "## pts: [nx3] columns [id, x, y]\n",
    "def build_triangulation(pts, show_best_polys=False):\n",
    "    start_time = time.time()\n",
    "    N = len(pts)\n",
    "    P = pts[:, 0].astype(int)\n",
    "    \n",
    "    # construct initial smallest tri\n",
    "    poly_set = set()\n",
    "    pq = []\n",
    "    initial_tris = 0\n",
    "#     start = None\n",
    "#     start_min_area = np.inf\n",
    "#     path = []\n",
    "    for k in range(N):\n",
    "        for i in range(k+1, N):\n",
    "            for j in range(i+1, N):\n",
    "                if k != i and k != j and i != j:\n",
    "                    a = area_tri(pts[k], pts[i], pts[j])\n",
    "                    path = rotate_min_first([P[k], P[i], P[j]])\n",
    "                    node = Node(-3, a, path)\n",
    "                    \n",
    "                    if tuple(path) not in poly_set and tuple(reverse_non_first(path)) not in poly_set:\n",
    "                        poly_set.add(tuple(path))\n",
    "                        heappush(pq, node)\n",
    "                        initial_tris += 1\n",
    "\n",
    "#     print(len(poly_set), poly_set)\n",
    "    # explore paths in tree in depth-first manner\n",
    "    lower_bound = np.inf\n",
    "    best_poly = None\n",
    "    progress_best_poly = None\n",
    "    initial_tris_progress = 0\n",
    "    while len(pq) > 0:\n",
    "        parent_node = heappop(pq)\n",
    "        if parent_node.level == -3:\n",
    "            initial_tris_progress += 1\n",
    "            progress_str = '{}/{}  =  {:.2f}%'.format(initial_tris_progress, initial_tris, 100*initial_tris_progress / initial_tris)\n",
    "            clear_output(wait=True)\n",
    "            display(progress_str)\n",
    "        path = parent_node.path\n",
    "        free_pts = np.setdiff1d(P, path)  # point ids not yet visited\n",
    "        \n",
    "        for i in range(len(path)):  # loop through edges on our poly border\n",
    "            id1 = path[i]                    # p1 of our new tri\n",
    "            id2 = path[(i+1) % len(path)]    # p2 of our new tri\n",
    "            best_area = np.inf\n",
    "            best_j = -1\n",
    "            for j in free_pts:  # pick a free point to construct a tri with our edge\n",
    "                if not tri_path_intersect([x for x in pts[path]], pts[id1], pts[id2], pts[j]):\n",
    "                    # if new tri doesnt intersect with our poly\n",
    "                    a = area_tri(pts[id1], pts[id2], pts[j])\n",
    "                    if a < best_area:\n",
    "                        best_area = a\n",
    "                        best_j = j\n",
    "        \n",
    "            if best_j > -1:  # only add smallest tris\n",
    "                cum_a = parent_node.area + best_area\n",
    "                tmp_path = path.copy()\n",
    "                tmp_path.insert(i+1, best_j)\n",
    "                tmp_path = rotate_min_first(tmp_path)\n",
    "                node = Node(-len(tmp_path), cum_a, tmp_path)\n",
    "\n",
    "                if len(tmp_path) == N and cum_a < lower_bound:\n",
    "                    lower_bound = cum_a\n",
    "                    best_poly = node\n",
    "                    progress_best_poly = initial_tris_progress\n",
    "                    if show_best_polys:\n",
    "                        plot_poly(pts, best_poly.path)\n",
    "                        print(best_poly)\n",
    "#                 elif cum_a < lower_bound:\n",
    "                elif cum_a + best_area*(N-len(tmp_path)) < lower_bound:  # guess lower bound\n",
    "                    # check if we have seen this path before\n",
    "                    if tuple(tmp_path) not in poly_set and tuple(reverse_non_first(tmp_path)) not in poly_set:\n",
    "                        poly_set.add(tuple(tmp_path))\n",
    "                        heappush(pq, node)\n",
    "    \n",
    "    # print optimal min area poly\n",
    "    plot_poly(pts, best_poly.path)\n",
    "    print('done', progress_best_poly,  best_poly)\n",
    "    \n",
    "    end_time = time.time()\n",
    "    diff_time = end_time - start_time\n",
    "    print('time elapsed: {} mins {:.2f} secs'.format((int)(diff_time // 60), diff_time % 60, 'secs'))\n",
    "\n",
    "    return np.asarray(path)\n"
   ]
  },
  {
   "cell_type": "markdown",
   "metadata": {},
   "source": [
    "# experiments"
   ]
  },
  {
   "cell_type": "code",
   "execution_count": 58,
   "metadata": {
    "collapsed": true
   },
   "outputs": [],
   "source": [
    "us_night_0000020 = np.loadtxt('challenge_instances/data/images/us-night-0000020.instance')\n",
    "uniform_0000030_1 = np.loadtxt('challenge_instances/data/uniform/uniform-0000030-1.instance')"
   ]
  },
  {
   "cell_type": "code",
   "execution_count": 113,
   "metadata": {},
   "outputs": [
    {
     "data": {
      "text/plain": [
       "'1140/1140  =  100.00%'"
      ]
     },
     "metadata": {},
     "output_type": "display_data"
    },
    {
     "data": {
      "image/png": "[encoded data removed]",
      "text/plain": [
       "<matplotlib.figure.Figure at 0x2a96e7fd630>"
      ]
     },
     "metadata": {},
     "output_type": "display_data"
    },
    {
     "name": "stdout",
     "output_type": "stream",
     "text": [
      "done (-20, '6,799,308.0', [0, 1, 6, 4, 17, 16, 11, 15, 19, 10, 18, 5, 13, 14, 12, 2, 9, 8, 3, 7])\n",
      "time elapsed: 4 mins 2.73 secs\n"
     ]
    }
   ],
   "source": [
    "p = build_triangulation(us_night_0000020, show_best_polys=True)\n",
    "\n",
    "# show progress + adding smallest tris + prune redundant polys\n",
    "# progressed to 3/1140 after ~ 1-2mins, with min area of ~8.14 million\n",
    "\n",
    "# show progress + adding smallest tris + estimate bounds + prune redundant polys\n",
    "# done (-20, '6,799,308.0', [0, 1, 6, 4, 17, 16, 11, 15, 19, 10, 18, 5, 13, 14, 12, 2, 9, 8, 3, 7])\n",
    "# time elapsed: 4 mins 2.73 secs"
   ]
  },
  {
   "cell_type": "code",
   "execution_count": 117,
   "metadata": {},
   "outputs": [
    {
     "data": {
      "text/plain": [
       "'2/4060  =  0.05%'"
      ]
     },
     "metadata": {},
     "output_type": "display_data"
    },
    {
     "ename": "KeyboardInterrupt",
     "evalue": "",
     "output_type": "error",
     "traceback": [
      "\u001b[1;31m---------------------------------------------------------------------------\u001b[0m",
      "\u001b[1;31mKeyboardInterrupt\u001b[0m                         Traceback (most recent call last)",
      "\u001b[1;32m<ipython-input-117-4e4886d5f5a6>\u001b[0m in \u001b[0;36m<module>\u001b[1;34m()\u001b[0m\n\u001b[1;32m----> 1\u001b[1;33m \u001b[0mp\u001b[0m \u001b[1;33m=\u001b[0m \u001b[0mbuild_triangulation\u001b[0m\u001b[1;33m(\u001b[0m\u001b[0muniform_0000030_1\u001b[0m\u001b[1;33m,\u001b[0m \u001b[0mshow_best_polys\u001b[0m\u001b[1;33m=\u001b[0m\u001b[1;32mTrue\u001b[0m\u001b[1;33m)\u001b[0m\u001b[1;33m\u001b[0m\u001b[1;33m\u001b[0m\u001b[0m\n\u001b[0m\u001b[0;32m      2\u001b[0m \u001b[1;33m\u001b[0m\u001b[0m\n\u001b[0;32m      3\u001b[0m \u001b[1;31m# show progress + adding smallest tris + estimate bounds + prune redundant polys\u001b[0m\u001b[1;33m\u001b[0m\u001b[1;33m\u001b[0m\u001b[1;33m\u001b[0m\u001b[0m\n",
      "\u001b[1;32m<ipython-input-116-2bdbbae1f011>\u001b[0m in \u001b[0;36mbuild_triangulation\u001b[1;34m(pts, show_best_polys)\u001b[0m\n\u001b[0;32m     47\u001b[0m             \u001b[0mbest_j\u001b[0m \u001b[1;33m=\u001b[0m \u001b[1;33m-\u001b[0m\u001b[1;36m1\u001b[0m\u001b[1;33m\u001b[0m\u001b[1;33m\u001b[0m\u001b[0m\n\u001b[0;32m     48\u001b[0m             \u001b[1;32mfor\u001b[0m \u001b[0mj\u001b[0m \u001b[1;32min\u001b[0m \u001b[0mfree_pts\u001b[0m\u001b[1;33m:\u001b[0m  \u001b[1;31m# pick a free point to construct a tri with our edge\u001b[0m\u001b[1;33m\u001b[0m\u001b[1;33m\u001b[0m\u001b[0m\n\u001b[1;32m---> 49\u001b[1;33m                 \u001b[1;32mif\u001b[0m \u001b[1;32mnot\u001b[0m \u001b[0mtri_path_intersect\u001b[0m\u001b[1;33m(\u001b[0m\u001b[1;33m[\u001b[0m\u001b[0mx\u001b[0m \u001b[1;32mfor\u001b[0m \u001b[0mx\u001b[0m \u001b[1;32min\u001b[0m \u001b[0mpts\u001b[0m\u001b[1;33m[\u001b[0m\u001b[0mpath\u001b[0m\u001b[1;33m]\u001b[0m\u001b[1;33m]\u001b[0m\u001b[1;33m,\u001b[0m \u001b[0mpts\u001b[0m\u001b[1;33m[\u001b[0m\u001b[0mid1\u001b[0m\u001b[1;33m]\u001b[0m\u001b[1;33m,\u001b[0m \u001b[0mpts\u001b[0m\u001b[1;33m[\u001b[0m\u001b[0mid2\u001b[0m\u001b[1;33m]\u001b[0m\u001b[1;33m,\u001b[0m \u001b[0mpts\u001b[0m\u001b[1;33m[\u001b[0m\u001b[0mj\u001b[0m\u001b[1;33m]\u001b[0m\u001b[1;33m)\u001b[0m\u001b[1;33m:\u001b[0m\u001b[1;33m\u001b[0m\u001b[1;33m\u001b[0m\u001b[0m\n\u001b[0m\u001b[0;32m     50\u001b[0m                     \u001b[1;31m# if new tri doesnt intersect with our poly\u001b[0m\u001b[1;33m\u001b[0m\u001b[1;33m\u001b[0m\u001b[1;33m\u001b[0m\u001b[0m\n\u001b[0;32m     51\u001b[0m                     \u001b[0ma\u001b[0m \u001b[1;33m=\u001b[0m \u001b[0marea_tri\u001b[0m\u001b[1;33m(\u001b[0m\u001b[0mpts\u001b[0m\u001b[1;33m[\u001b[0m\u001b[0mid1\u001b[0m\u001b[1;33m]\u001b[0m\u001b[1;33m,\u001b[0m \u001b[0mpts\u001b[0m\u001b[1;33m[\u001b[0m\u001b[0mid2\u001b[0m\u001b[1;33m]\u001b[0m\u001b[1;33m,\u001b[0m \u001b[0mpts\u001b[0m\u001b[1;33m[\u001b[0m\u001b[0mj\u001b[0m\u001b[1;33m]\u001b[0m\u001b[1;33m)\u001b[0m\u001b[1;33m\u001b[0m\u001b[1;33m\u001b[0m\u001b[0m\n",
      "\u001b[1;31mKeyboardInterrupt\u001b[0m: "
     ]
    }
   ],
   "source": [
    "p = build_triangulation(uniform_0000030_1, show_best_polys=True)\n",
    "\n",
    "# show progress + adding smallest tris + estimate bounds + prune redundant polys"
   ]
  },
  {
   "cell_type": "markdown",
   "metadata": {},
   "source": [
    "# experiments n=10"
   ]
  },
  {
   "cell_type": "code",
   "execution_count": 9,
   "metadata": {
    "collapsed": true
   },
   "outputs": [],
   "source": [
    "euro_night_0000010 = np.loadtxt('challenge_instances/data/images/euro-night-0000010.instance')\n",
    "london_0000010 = np.loadtxt('challenge_instances/data/images/london-0000010.instance')\n",
    "stars_0000010 = np.loadtxt('challenge_instances/data/images/stars-0000010.instance')\n",
    "us_night_0000010 = np.loadtxt('challenge_instances/data/images/us-night-0000010.instance')\n",
    "\n",
    "\n",
    "uniform_0000010_1 = np.loadtxt('challenge_instances/data/uniform/uniform-0000010-1.instance')\n",
    "uniform_0000010_2 = np.loadtxt('challenge_instances/data/uniform/uniform-0000010-2.instance')"
   ]
  },
  {
   "cell_type": "markdown",
   "metadata": {},
   "source": [
    "### 1/6"
   ]
  },
  {
   "cell_type": "code",
   "execution_count": 114,
   "metadata": {},
   "outputs": [
    {
     "data": {
      "text/plain": [
       "'120/120  =  100.00%'"
      ]
     },
     "metadata": {},
     "output_type": "display_data"
    },
    {
     "data": {
      "image/png": "[encoded data removed]",
      "text/plain": [
       "<matplotlib.figure.Figure at 0x2a96eb0eeb8>"
      ]
     },
     "metadata": {},
     "output_type": "display_data"
    },
    {
     "name": "stdout",
     "output_type": "stream",
     "text": [
      "done (-10, '9,954,272.0', [0, 4, 1, 3, 2, 9, 8, 6, 7, 5])\n",
      "time elapsed: 0 mins 0.82 secs\n"
     ]
    }
   ],
   "source": [
    "p = build_triangulation(euro_night_0000010)\n",
    "\n",
    "# 1 min ..\n",
    "# 4 mins 38.45 secs\n",
    "\n",
    "# only adding smallest possible tris\n",
    "# done (-10, '9,954,272.0', [0, 4, 1, 3, 2, 9, 8, 6, 7, 5])\n",
    "# time elapsed: 0 mins 26.37 secs\n",
    "\n",
    "# show progress + adding smallest tris + estimate bounds + prune redundant polys\n",
    "# done (-10, '9,954,272.0', [0, 4, 1, 3, 2, 9, 8, 6, 7, 5])\n",
    "# time elapsed: 0 mins 0.82 secs"
   ]
  },
  {
   "cell_type": "markdown",
   "metadata": {},
   "source": [
    "### 2/6"
   ]
  },
  {
   "cell_type": "code",
   "execution_count": 118,
   "metadata": {},
   "outputs": [
    {
     "data": {
      "text/plain": [
       "'120/120  =  100.00%'"
      ]
     },
     "metadata": {},
     "output_type": "display_data"
    },
    {
     "data": {
      "image/png": "[encoded data removed]",
      "text/plain": [
       "<matplotlib.figure.Figure at 0x2a970749588>"
      ]
     },
     "metadata": {},
     "output_type": "display_data"
    },
    {
     "name": "stdout",
     "output_type": "stream",
     "text": [
      "done 1 (-10, '19,207,298.0', [0, 4, 7, 5, 9, 6, 8, 2, 1, 3])\n",
      "time elapsed: 0 mins 0.85 secs\n"
     ]
    }
   ],
   "source": [
    "p = build_triangulation(london_0000010)\n",
    "\n",
    "# done (-10, '19,207,298.0', [2, 1, 3, 0, 4, 7, 5, 9, 6, 8])\n",
    "# time elapsed: 3 mins 41.61 secs\n",
    "\n",
    "\n",
    "# show progress + adding smallest tris\n",
    "# done (-10, '19,207,298.0', [2, 1, 3, 0, 4, 7, 5, 9, 6, 8])\n",
    "# time elapsed: 0 mins 26.56 secs\n",
    "\n",
    "# show progress + adding smallest tris + estimate bounds\n",
    "# done (-10, '19,207,298.0', [2, 1, 3, 0, 4, 7, 5, 9, 6, 8])\n",
    "# time elapsed: 0 mins 2.12 secs\n",
    "\n",
    "# show progress + adding smallest tris + prune redundant polys\n",
    "# done (-10, '19,207,298.0', [0, 4, 7, 5, 9, 6, 8, 2, 1, 3])\n",
    "# time elapsed: 0 mins 1.79 secs\n",
    "\n",
    "# show progress + adding smallest tris + estimate bounds + prune redundant polys\n",
    "# done (-10, '19,207,298.0', [0, 4, 7, 5, 9, 6, 8, 2, 1, 3])\n",
    "# time elapsed: 0 mins 0.82 secs"
   ]
  },
  {
   "cell_type": "markdown",
   "metadata": {},
   "source": [
    "### 3/6"
   ]
  },
  {
   "cell_type": "code",
   "execution_count": 108,
   "metadata": {},
   "outputs": [
    {
     "data": {
      "text/plain": [
       "'120/120  =  100.00%'"
      ]
     },
     "metadata": {},
     "output_type": "display_data"
    },
    {
     "data": {
      "image/png": "[encoded data removed]",
      "text/plain": [
       "<matplotlib.figure.Figure at 0x2a96ed9de48>"
      ]
     },
     "metadata": {},
     "output_type": "display_data"
    },
    {
     "name": "stdout",
     "output_type": "stream",
     "text": [
      "done (-10, '40,264,246,222.0', [0, 2, 7, 3, 9, 5, 8, 1, 6, 4])\n",
      "time elapsed: 0 mins 0.67 secs\n"
     ]
    }
   ],
   "source": [
    "p = build_triangulation(stars_0000010)\n",
    "\n",
    "# done (-9, '40,264,246,222.0', [5, 9, 3, 7, 2, 0, 4, 6, 1, 8])\n",
    "# time elapsed: 1 mins 26.61832022666931 secs\n",
    "\n",
    "# show progress + adding smallest tris\n",
    "# done (-10, '40,264,246,222.0', [4, 0, 2, 7, 3, 9, 5, 8, 1, 6])\n",
    "# time elapsed: 0 mins 21.48 secs\n",
    "\n",
    "# show progress + adding smallest tris + estimate bounds\n",
    "# done (-10, '40,264,246,222.0', [4, 0, 2, 7, 3, 9, 5, 8, 1, 6])\n",
    "# time elapsed: 0 mins 1.35 secs\n",
    "\n",
    "# show progress + adding smallest tris + prune redundant polys\n",
    "# done (-10, '40,264,246,222.0', [0, 2, 7, 3, 9, 5, 8, 1, 6, 4])\n",
    "# time elapsed: 0 mins 1.61 secs\n",
    "\n",
    "# show progress + adding smallest tris + estimate bounds + prune redundant polys\n",
    "# done (-10, '40,264,246,222.0', [0, 2, 7, 3, 9, 5, 8, 1, 6, 4])\n",
    "# time elapsed: 0 mins 0.67 secs"
   ]
  },
  {
   "cell_type": "markdown",
   "metadata": {},
   "source": [
    "### 4/6"
   ]
  },
  {
   "cell_type": "code",
   "execution_count": 109,
   "metadata": {},
   "outputs": [
    {
     "data": {
      "text/plain": [
       "'120/120  =  100.00%'"
      ]
     },
     "metadata": {},
     "output_type": "display_data"
    },
    {
     "data": {
      "image/png": "[encoded data removed]",
      "text/plain": [
       "<matplotlib.figure.Figure at 0x2a96e886ef0>"
      ]
     },
     "metadata": {},
     "output_type": "display_data"
    },
    {
     "name": "stdout",
     "output_type": "stream",
     "text": [
      "done (-10, '3,650,560.0', [0, 5, 1, 6, 2, 9, 3, 8, 4, 7])\n",
      "time elapsed: 0 mins 0.88 secs\n"
     ]
    }
   ],
   "source": [
    "p = build_triangulation(us_night_0000010)\n",
    "\n",
    "# done (-9, '3,650,560.0', [5, 1, 6, 2, 9, 3, 8, 4, 7, 0])\n",
    "# time elapsed: 3 mins 40.07 secs\n",
    "\n",
    "# show progress + adding smallest tris\n",
    "# done (-10, '3,650,560.0', [2, 9, 3, 8, 4, 7, 0, 5, 1, 6])\n",
    "# time elapsed: 0 mins 35.88 secs\n",
    "\n",
    "# show progress + adding smallest tris + estimate bounds\n",
    "# done (-10, '3,650,560.0', [2, 9, 3, 8, 4, 7, 0, 5, 1, 6])\n",
    "# time elapsed: 0 mins 3.20 secs\n",
    "\n",
    "# show progress + adding smallest tris + prune redundant polys\n",
    "# done (-10, '3,650,560.0', [0, 5, 1, 6, 2, 9, 3, 8, 4, 7])\n",
    "# time elapsed: 0 mins 1.59 secs\n",
    "\n",
    "# show progress + adding smallest tris + estimate bounds + prune redundant polys\n",
    "# done (-10, '3,650,560.0', [0, 5, 1, 6, 2, 9, 3, 8, 4, 7])\n",
    "# time elapsed: 0 mins 0.88 secs"
   ]
  },
  {
   "cell_type": "markdown",
   "metadata": {},
   "source": [
    "### 5/6"
   ]
  },
  {
   "cell_type": "code",
   "execution_count": 110,
   "metadata": {},
   "outputs": [
    {
     "data": {
      "text/plain": [
       "'120/120  =  100.00%'"
      ]
     },
     "metadata": {},
     "output_type": "display_data"
    },
    {
     "data": {
      "image/png": "[encoded data removed]",
      "text/plain": [
       "<matplotlib.figure.Figure at 0x2a96eb3f160>"
      ]
     },
     "metadata": {},
     "output_type": "display_data"
    },
    {
     "name": "stdout",
     "output_type": "stream",
     "text": [
      "done (-10, '58,872.0', [0, 2, 5, 7, 9, 8, 4, 6, 3, 1])\n",
      "time elapsed: 0 mins 0.75 secs\n"
     ]
    }
   ],
   "source": [
    "p = build_triangulation(uniform_0000010_1)\n",
    "\n",
    "# done (-9, '58,872.0', [1, 0, 2, 5, 7, 9, 8, 4, 6, 3])\n",
    "# time elapsed: 1 mins 23.47 secs\n",
    "\n",
    "# show progress + adding smallest tris bugged?\n",
    "# done (-10, '61,260.0', [4, 2, 6, 3, 1, 0, 5, 7, 9, 8])\n",
    "# time elapsed: 0 mins 5.80 secs\n",
    "# plot_poly(uniform_0000010_1, [4, 2, 6, 3, 1, 0, 5, 7, 9, 8])  # shows bugged version terminating too early\n",
    "\n",
    "# show progress + adding smallest tris\n",
    "# done (-10, '58,872.0', [5, 7, 9, 8, 4, 6, 3, 1, 0, 2])\n",
    "# time elapsed: 0 mins 18.98 secs\n",
    "\n",
    "# show progress + adding smallest tris + estimate bounds\n",
    "# done (-10, '58,872.0', [5, 7, 9, 8, 4, 6, 3, 1, 0, 2])\n",
    "# time elapsed: 0 mins 1.34 secs\n",
    "\n",
    "# show progress + adding smallest tris + prune redundant polys\n",
    "# done (-10, '58,872.0', [0, 2, 5, 7, 9, 8, 4, 6, 3, 1])\n",
    "# time elapsed: 0 mins 1.79 secs\n",
    "\n",
    "# show progress + adding smallest tris + estimate bounds + prune redundant polys\n",
    "# done (-10, '58,872.0', [0, 2, 5, 7, 9, 8, 4, 6, 3, 1])\n",
    "# time elapsed: 0 mins 0.75 secs"
   ]
  },
  {
   "cell_type": "markdown",
   "metadata": {},
   "source": [
    "### 6/6"
   ]
  },
  {
   "cell_type": "code",
   "execution_count": 111,
   "metadata": {},
   "outputs": [
    {
     "data": {
      "text/plain": [
       "'120/120  =  100.00%'"
      ]
     },
     "metadata": {},
     "output_type": "display_data"
    },
    {
     "data": {
      "image/png": "[encoded data removed]",
      "text/plain": [
       "<matplotlib.figure.Figure at 0x2a96ec2cb38>"
      ]
     },
     "metadata": {},
     "output_type": "display_data"
    },
    {
     "name": "stdout",
     "output_type": "stream",
     "text": [
      "done (-10, '51,568.0', [0, 4, 5, 3, 2, 7, 9, 8, 6, 1])\n",
      "time elapsed: 0 mins 0.64 secs\n"
     ]
    }
   ],
   "source": [
    "p = build_triangulation(uniform_0000010_2)\n",
    "\n",
    "# done (-9, '51,568.0', [3, 2, 7, 9, 8, 6, 1, 0, 4, 5])\n",
    "# time elapsed: 0 mins 38.55288004875183 secs\n",
    "\n",
    "# done (-10, '51,568.0', [2, 3, 5, 4, 0, 1, 6, 8, 9, 7])\n",
    "# time elapsed: 1 mins 10.56 secs\n",
    "\n",
    "# show progress + adding smallest tris\n",
    "# done (-10, '51,568.0', [1, 0, 4, 5, 3, 2, 7, 9, 8, 6])\n",
    "# time elapsed: 0 mins 10.28 secs\n",
    "\n",
    "# show progress + adding smallest tris + estimate bounds\n",
    "# done (-10, '51,568.0', [1, 0, 4, 5, 3, 2, 7, 9, 8, 6])\n",
    "# time elapsed: 0 mins 2.03 secs\n",
    "\n",
    "# show progress + adding smallest tris + prune redundant polys\n",
    "# done (-10, '51,568.0', [0, 4, 5, 3, 2, 7, 9, 8, 6, 1])\n",
    "# time elapsed: 0 mins 1.17 secs\n",
    "\n",
    "# show progress + adding smallest tris + estimate bounds + prune redundant polys\n",
    "# done (-10, '51,568.0', [0, 4, 5, 3, 2, 7, 9, 8, 6, 1])\n",
    "# time elapsed: 0 mins 0.64 secs"
   ]
  },
  {
   "cell_type": "markdown",
   "metadata": {},
   "source": [
    "# experiments n=15"
   ]
  },
  {
   "cell_type": "code",
   "execution_count": 46,
   "metadata": {
    "collapsed": true
   },
   "outputs": [],
   "source": [
    "euro_night_0000015 = np.loadtxt('challenge_instances/data/images/euro-night-0000015.instance')\n",
    "london_0000015 = np.loadtxt('challenge_instances/data/images/london-0000015.instance')\n",
    "stars_0000015 = np.loadtxt('challenge_instances/data/images/stars-0000015.instance')\n",
    "us_night_0000015 = np.loadtxt('challenge_instances/data/images/us-night-0000015.instance')\n",
    "\n",
    "\n",
    "uniform_0000015_1 = np.loadtxt('challenge_instances/data/uniform/uniform-0000015-1.instance')\n",
    "uniform_0000015_2 = np.loadtxt('challenge_instances/data/uniform/uniform-0000015-2.instance')"
   ]
  },
  {
   "cell_type": "code",
   "execution_count": 112,
   "metadata": {},
   "outputs": [
    {
     "data": {
      "text/plain": [
       "'455/455  =  100.00%'"
      ]
     },
     "metadata": {},
     "output_type": "display_data"
    },
    {
     "data": {
      "image/png": "[encoded data removed]",
      "text/plain": [
       "<matplotlib.figure.Figure at 0x2a96ed55d68>"
      ]
     },
     "metadata": {},
     "output_type": "display_data"
    },
    {
     "name": "stdout",
     "output_type": "stream",
     "text": [
      "done (-15, '7,661,692.0', [0, 13, 12, 14, 11, 6, 10, 9, 8, 4, 3, 1, 2, 7, 5])\n",
      "time elapsed: 0 mins 10.09 secs\n"
     ]
    }
   ],
   "source": [
    "p = build_triangulation(euro_night_0000015)\n",
    "\n",
    "# show progress + adding smallest tris + estimate bounds?\n",
    "# done (-15, '7,661,692.0', [4, 3, 1, 2, 7, 5, 0, 13, 12, 14, 11, 6, 10, 9, 8])\n",
    "# time elapsed: 5 mins 17.63 secs\n",
    "# plot_poly(euro_night_0000015, [4, 3, 1, 2, 7, 5, 0, 13, 12, 14, 11, 6, 10, 9, 8])\n",
    "\n",
    "# show progress + adding smallest tris + prune redundant polys\n",
    "# done (-15, '7,107,334.0', [0, 5, 7, 4, 2, 1, 3, 6, 9, 10, 8, 11, 14, 12, 13])\n",
    "# time elapsed: 2 mins 55.48 secs\n",
    "\n",
    "# show progress + adding smallest tris + estimate bounds + prune redundant polys\n",
    "# done (-15, '7,661,692.0', [0, 13, 12, 14, 11, 6, 10, 9, 8, 4, 3, 1, 2, 7, 5])\n",
    "# time elapsed: 0 mins 10.09 secs"
   ]
  },
  {
   "cell_type": "code",
   "execution_count": null,
   "metadata": {
    "collapsed": true
   },
   "outputs": [],
   "source": [
    "\n",
    "#                     if a < i_min_area:  # update smallest tri for this edge\n",
    "#                         i_min_area = a\n",
    "#                         id3_min_area = j       # p3 of our new tri\n",
    "\n",
    "#             if i_min_area < min_area:  # updates smallest tri among all edges\n",
    "#                 min_area = i_min_area\n",
    "#                 min_i = i\n",
    "#                 min_j = id3_min_area\n",
    "        \n",
    "#         # add smallest tri to path\n",
    "#         if min_j != -1:\n",
    "# #             path.insert(min_i+1, pts[min_j])\n",
    "#             path.insert(min_i+1, min_j)\n",
    "# #             P_path = np.array(path)[:, 0].astype(int)  # point ids in path\n",
    "#             P_path = path\n",
    "#         else:\n",
    "#             print(tri_path_intersect(path, pts[0], pts[9], pts[6]))\n",
    "#             plt_path = np.asarray(path + [path[0]])\n",
    "#             plt.plot(plt_path[:, 1], plt_path[:, 2])\n",
    "#             plt.plot(data_pts[[0, 6, 9], 1], data_pts[[0, 6, 9], 2])\n",
    "#             plt.scatter(data_pts[:, 1], data_pts[:, 2])\n",
    "#             plt.show()\n",
    "#             raise Exception('couldnt find tri to add')"
   ]
  }
 ],
 "metadata": {
  "kernelspec": {
   "display_name": "Python 3",
   "language": "python",
   "name": "python3"
  },
  "language_info": {
   "codemirror_mode": {
    "name": "ipython",
    "version": 3
   },
   "file_extension": ".py",
   "mimetype": "text/x-python",
   "name": "python",
   "nbconvert_exporter": "python",
   "pygments_lexer": "ipython3",
   "version": "3.6.8"
  }
 },
 "nbformat": 4,
 "nbformat_minor": 2
}
